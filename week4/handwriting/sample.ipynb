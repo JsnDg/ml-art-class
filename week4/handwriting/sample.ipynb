{
 "cells": [
  {
   "cell_type": "markdown",
   "metadata": {},
   "source": [
    "# Scribe: Realistic Handwriting with TensorFlow"
   ]
  },
  {
   "cell_type": "markdown",
   "metadata": {},
   "source": [
    "This model is trained on the IAM handwriting dataset and was inspired by the model described by Alex Graves in his 2013 paper, [Generating Sequences with Recurrent Neural Networks](http://arxiv.org/abs/1308.0850). It consists of a three-layer recurrent neural network (LSTM cells) with a Gaussian Mixture Density Network (MDN) cap on top. I have also implemented the attention mechanism from the paper which allows the network to 'focus' on character at a time in a sequence as it draws them.\n",
    "\n",
    "This iPython notebook (named **sample**) demonstrates how to\n",
    "1. build the model\n",
    "2. load saved parameters\n",
    "3. generate handwriting\n",
    "\n",
    "Source: https://github.com/greydanus/scribe\n",
    "\n",
    "NOTE: Adapted for datahub.ucsd.edu with tensorflow 1.12, rtwomey@ucsd.edu, spring 2019."
   ]
  },
  {
   "cell_type": "markdown",
   "metadata": {},
   "source": [
    "## Training the Model\n",
    "\n",
    "This model includes a checkpoint pretrained to 125000 steps in ```saved/checkpoint```\n",
    "\n",
    "To train your own model, run the following from terminal: \n",
    "\n",
    "```python run.py --train```\n",
    "\n",
    "Parameter details are seen in ```run.py``` code.\n",
    "\n",
    "Requires the files lineStrokes-all.tar.gz and ascii-all.tar.gz from the IAM handwriting dataset (included here in the data folder), but originally from [IAM on-line handwriting databse](http://www.fki.inf.unibe.ch/databases/iam-on-line-handwriting-database/download-the-iam-on-line-handwriting-database)."
   ]
  },
  {
   "cell_type": "markdown",
   "metadata": {},
   "source": [
    "## Dependencies"
   ]
  },
  {
   "cell_type": "code",
   "execution_count": 1,
   "metadata": {},
   "outputs": [
    {
     "name": "stderr",
     "output_type": "stream",
     "text": [
      "/opt/conda/lib/python3.6/site-packages/h5py/__init__.py:36: FutureWarning: Conversion of the second argument of issubdtype from `float` to `np.floating` is deprecated. In future, it will be treated as `np.float64 == np.dtype(float).type`.\n",
      "  from ._conv import register_converters as _register_converters\n"
     ]
    }
   ],
   "source": [
    "import numpy as np\n",
    "import numpy.matlib\n",
    "import matplotlib.pyplot as plt\n",
    "import matplotlib.cm as cm\n",
    "%matplotlib inline\n",
    "\n",
    "import math\n",
    "import random\n",
    "import time\n",
    "import os\n",
    "import pickle\n",
    "\n",
    "import tensorflow as tf #built with TensorFlow version 1.0"
   ]
  },
  {
   "cell_type": "markdown",
   "metadata": {},
   "source": [
    "## Define hyperparameters"
   ]
  },
  {
   "cell_type": "markdown",
   "metadata": {},
   "source": [
    "Note that *tsteps* and *batch_size* are both 1 when we're sampling"
   ]
  },
  {
   "cell_type": "code",
   "execution_count": 2,
   "metadata": {},
   "outputs": [],
   "source": [
    "# in the real project class, we use argparse (https://docs.python.org/3/library/argparse.html)\n",
    "class FakeArgParse():\n",
    "    def __init__(self):\n",
    "        pass\n",
    "args = FakeArgParse()\n",
    "\n",
    "#general model params\n",
    "args.train = False\n",
    "args.rnn_size = 100 #400 hidden units\n",
    "args.tsteps = 256 if args.train else 1\n",
    "args.batch_size = 32 if args.train else 1\n",
    "args.nmixtures = 8 # number of Gaussian mixtures in MDN\n",
    "\n",
    "#window params\n",
    "args.kmixtures = 1 # number of Gaussian mixtures in attention mechanism (for soft convolution window)\n",
    "args.alphabet = ' abcdefghijklmnopqrstuvwxyzABCDEFGHIJKLMNOPQRSTUVWXYZ' #later we'll add an <UNK> slot for unknown chars\n",
    "args.tsteps_per_ascii = 25 # an approximate estimate\n",
    "\n",
    "#book-keeping\n",
    "args.save_path = './saved/model.ckpt'\n",
    "args.data_dir = './data'\n",
    "args.log_dir = './logs/'\n",
    "# args.text = 'call me ishmael some years ago'\n",
    "args.text = 'i will not make boring art'\n",
    "# args.text = 'all lower case example'\n",
    "# args.text = 'Mixed Case Example'\n",
    "# args.text = 'Sentence case example'\n",
    "args.style = -1 # don't use a custom style\n",
    "args.bias = 1.0\n",
    "args.eos_prob = 0.3 # threshold probability for ending a stroke\n",
    "\n",
    "# repeatedly random (e.g. same results for same computation due to same seed)\n",
    "# np.random.seed(0)\n",
    "# tf.set_random_seed(0)"
   ]
  },
  {
   "cell_type": "markdown",
   "metadata": {},
   "source": [
    "## Model overview"
   ]
  },
  {
   "cell_type": "markdown",
   "metadata": {},
   "source": [
    "Let's start with an overview. The backbone of the model is three LSTM cells (green). There is a a custom attention mechanism (yellow) which digests a one-hot encoding of the sentence we want the model to write. The Mixture Density Network (red) on top choses apropriate Gaussian distributions from which to sample the next pen point, adding some natural randomness to the model.\n",
    "<img src=\"static/model_rolled.png\" alt=\"Handwriting model structure\" style=\"width: 40%;\"/>\n",
    "As we build the model, we'll start with the inputs and work our way upwards through the computational graph. The code is optimized for minibatch training but in this case we already set the `args.batch_size` to 1."
   ]
  },
  {
   "cell_type": "code",
   "execution_count": 3,
   "metadata": {},
   "outputs": [],
   "source": [
    "# in real life the model is a class. I used this hack to make the iPython notebook more readable\n",
    "class FakeModel():\n",
    "    def __init__(self):\n",
    "        pass\n",
    "model = FakeModel()"
   ]
  },
  {
   "cell_type": "markdown",
   "metadata": {},
   "source": [
    "## Initialize LSTMs and build LSTM 1"
   ]
  },
  {
   "cell_type": "code",
   "execution_count": 4,
   "metadata": {},
   "outputs": [],
   "source": [
    "\n",
    "model.char_vec_len = len(args.alphabet) + 1 #plus one for <UNK> token\n",
    "model.ascii_steps = len(args.text)\n",
    "\n",
    "model.graves_initializer = tf.truncated_normal_initializer(mean=0., stddev=.075, seed=None, dtype=tf.float32)\n",
    "model.window_b_initializer = tf.truncated_normal_initializer(mean=-3.0, stddev=.25, seed=None, dtype=tf.float32)\n",
    "\n",
    "# ----- build the basic recurrent network architecture\n",
    "cell_func = tf.contrib.rnn.LSTMCell # could be GRUCell or RNNCell\n",
    "model.cell0 = cell_func(args.rnn_size, state_is_tuple=True, initializer=model.graves_initializer)\n",
    "model.cell1 = cell_func(args.rnn_size, state_is_tuple=True, initializer=model.graves_initializer)\n",
    "model.cell2 = cell_func(args.rnn_size, state_is_tuple=True, initializer=model.graves_initializer)\n",
    "\n",
    "model.input_data = tf.placeholder(dtype=tf.float32, shape=[None, args.tsteps, 3])\n",
    "model.target_data = tf.placeholder(dtype=tf.float32, shape=[None, args.tsteps, 3])\n",
    "model.istate_cell0 = model.cell0.zero_state(batch_size=args.batch_size, dtype=tf.float32)\n",
    "model.istate_cell1 = model.cell1.zero_state(batch_size=args.batch_size, dtype=tf.float32)\n",
    "model.istate_cell2 = model.cell2.zero_state(batch_size=args.batch_size, dtype=tf.float32)\n",
    "\n",
    "#slice the input volume into separate vols for each tstep\n",
    "inputs = [tf.squeeze(input_, [1]) for input_ in tf.split(model.input_data, args.tsteps, 1)]\n",
    "\n",
    "#build model.cell0 computational graph\n",
    "outs_cell0, model.fstate_cell0 = tf.contrib.legacy_seq2seq.rnn_decoder(inputs, model.istate_cell0, \\\n",
    "                                                       model.cell0, loop_function=None, scope='cell0')"
   ]
  },
  {
   "cell_type": "markdown",
   "metadata": {},
   "source": [
    "In the cell above we use the TensorFlow `seq2seq` [API](https://www.tensorflow.org/versions/r0.10/tutorials/seq2seq/index.html) to create three LSTM cells. Learn about how LSTMs work [here](https://colah.github.io/posts/2015-08-Understanding-LSTMs/). When we unroll the model in time, it will look like this (arrows denote flow of data)\n",
    "<img src=\"static/model_unrolled.png\" alt=\"Handwriting model unrolled\" style=\"width: 80%;\"/>\n",
    "We've already built the computational graph for the first LSTM cell. Our next task is to build the attention mechanism"
   ]
  },
  {
   "cell_type": "markdown",
   "metadata": {},
   "source": [
    "## Build the attention mechanism"
   ]
  },
  {
   "cell_type": "markdown",
   "metadata": {},
   "source": [
    "The attention mechanism performs a Gaussian convolution over a one-hot encoding of the input text using a mixture of Gaussians. Its final output is a soft window into the one-hot encoding of the character the model thinks it is drawing. When we stack these soft windows vertically over time, we get a heatmap like this:\n",
    "\n",
    "<img src=\"static/onehot_window.png\" alt=\"One-hot window\" style=\"width: 50%;\"/>\n",
    "\n",
    "Don't worry about how the mixture of Gaussians works together - we'll go over this in more detail later. For now, focus on building an intuition for how the parameters $\\alpha$, $\\beta$, and $\\kappa$ affect the window's behavior.\n",
    "\n",
    "These three parameters control the character window $w_t$ according to\n",
    "$$(\\hat \\alpha_t,\\hat \\beta_t, \\hat \\kappa_t)=W_{h^1 p}h_t^1+b_p$$\n",
    "\n",
    "Each of these parameters are outputs from a dense layer on top of the first LSTM which we then transform according to:\n",
    "$$\\alpha_t=\\exp (\\hat \\alpha_t) \\quad \\quad \\beta_t=\\exp (\\hat \\beta_t) \\quad \\quad \\kappa_t= \\kappa_{t-1} + \\exp (\\hat \\kappa_t)$$\n",
    "\n",
    "From these parameters we can construct the window as a convolution:\n",
    "$$w_t=\\sum_{u=1}^U \\phi(t,u)c_u \\quad \\quad \\phi(t,u)= \\sum_{k=1}^K \\alpha_t^k \\exp \\left( -\\beta_t^k(\\kappa_t^k-u)^2 \\right)$$"
   ]
  },
  {
   "cell_type": "code",
   "execution_count": 5,
   "metadata": {},
   "outputs": [],
   "source": [
    "# ----- build the gaussian character window\n",
    "def get_window(alpha, beta, kappa, c):\n",
    "    # phi -> [? x 1 x ascii_steps] and is a tf matrix\n",
    "    # c -> [? x ascii_steps x alphabet] and is a tf matrix\n",
    "    ascii_steps = c.get_shape()[1].value #number of items in sequence\n",
    "    phi = get_phi(ascii_steps, alpha, beta, kappa)\n",
    "    window = tf.matmul(phi,c)\n",
    "    window = tf.squeeze(window, [1]) # window ~ [?,alphabet]\n",
    "    return window, phi\n",
    "\n",
    "#get phi for all t,u (returns a [1 x tsteps] matrix) that defines the window\n",
    "def get_phi(ascii_steps, alpha, beta, kappa):\n",
    "    # alpha, beta, kappa -> [?,kmixtures,1] and each is a tf variable\n",
    "    u = np.linspace(0,ascii_steps-1,ascii_steps) # weight all the U items in the sequence\n",
    "    kappa_term = tf.square( tf.subtract(kappa,u))\n",
    "    exp_term = tf.multiply(-beta,kappa_term)\n",
    "    phi_k = tf.multiply(alpha, tf.exp(exp_term))\n",
    "    phi = tf.reduce_sum(phi_k,1, keep_dims=True)\n",
    "    return phi # phi ~ [?,1,ascii_steps]\n",
    "\n",
    "def get_window_params(i, out_cell0, kmixtures, prev_kappa, reuse=True):\n",
    "    hidden = out_cell0.get_shape()[1]\n",
    "    n_out = 3*kmixtures\n",
    "    with tf.variable_scope('window',reuse=reuse):\n",
    "        window_w = tf.get_variable(\"window_w\", [hidden, n_out], initializer=model.graves_initializer)\n",
    "        window_b = tf.get_variable(\"window_b\", [n_out], initializer=model.window_b_initializer)\n",
    "    abk_hats = tf.nn.xw_plus_b(out_cell0, window_w, window_b) # abk_hats ~ [?,n_out] = \"alpha, beta, kappa hats\"\n",
    "    abk = tf.exp(tf.reshape(abk_hats, [-1, 3*kmixtures,1]))\n",
    "\n",
    "    alpha, beta, kappa = tf.split(abk, 3, 1) # alpha_hat, etc ~ [?,kmixtures]\n",
    "    kappa = kappa + prev_kappa\n",
    "    return alpha, beta, kappa # each ~ [?,kmixtures,1]"
   ]
  },
  {
   "cell_type": "markdown",
   "metadata": {},
   "source": [
    "Alex Graves gives a really nice intuition for the roles of $\\alpha$, $\\beta$, and $\\kappa$ in his paper:\n",
    ">\"Intuitively, the $\\kappa_t$ parameters\n",
    "control the location of the window, the $\\beta_t$ parameters control the width of\n",
    "the window and the $\\alpha_t$ parameters control the importance of the window within\n",
    "the mixture.\"\n",
    "\n",
    "Now that we've defined how the attention mechanism works, we need to loop through each of LSTM 1's outputs states and use them as inputs to the attention mechanism. Then, we simply concatenate the outputs of the attention mechanism to the LSTM's state vector. While we're at it, we concatenate the original pen stroke data for good measure. The modified LSTM 1 state vector looks like this:\n",
    "<img src=\"static/modified_lstm1_state.png\" alt=\"Motified LSTM 1 state vector\" style=\"width: 75%;\"/>"
   ]
  },
  {
   "cell_type": "code",
   "execution_count": 6,
   "metadata": {},
   "outputs": [
    {
     "name": "stdout",
     "output_type": "stream",
     "text": [
      "WARNING:tensorflow:From <ipython-input-5-65219788c638>:18: calling reduce_sum (from tensorflow.python.ops.math_ops) with keep_dims is deprecated and will be removed in a future version.\n",
      "Instructions for updating:\n",
      "keep_dims is deprecated, use keepdims instead\n",
      "WARNING:tensorflow:From <ipython-input-6-27d5b1a34d59>:15: calling reduce_mean (from tensorflow.python.ops.math_ops) with keep_dims is deprecated and will be removed in a future version.\n",
      "Instructions for updating:\n",
      "keep_dims is deprecated, use keepdims instead\n"
     ]
    }
   ],
   "source": [
    "\n",
    "model.init_kappa = tf.placeholder(dtype=tf.float32, shape=[None, args.kmixtures, 1]) \n",
    "model.char_seq = tf.placeholder(dtype=tf.float32, shape=[None, model.ascii_steps, model.char_vec_len])\n",
    "wavg_prev_kappa = model.init_kappa\n",
    "prev_window = model.char_seq[:,0,:]\n",
    "\n",
    "#add gaussian window result\n",
    "reuse = False\n",
    "for i in range(len(outs_cell0)):\n",
    "    [alpha, beta, new_kappa] = get_window_params(i, outs_cell0[i], args.kmixtures, wavg_prev_kappa, reuse=reuse)\n",
    "    window, phi = get_window(alpha, beta, new_kappa, model.char_seq)\n",
    "    outs_cell0[i] = tf.concat((outs_cell0[i],window), 1) #concat outputs\n",
    "    outs_cell0[i] = tf.concat((outs_cell0[i],inputs[i]), 1) #concat input data\n",
    "#         prev_kappa = new_kappa #tf.ones_like(new_kappa, dtype=tf.float32, name=\"prev_kappa_ones\") #\n",
    "    wavg_prev_kappa = tf.reduce_mean( new_kappa, reduction_indices=1, keep_dims=True) # mean along kmixtures dimension\n",
    "    reuse = True\n",
    "model.window = window #save the last window (for generation)\n",
    "model.phi = phi #save the last window (for generation)\n",
    "model.new_kappa = new_kappa #save the last window (for generation)\n",
    "model.alpha = alpha #save the last window (for generation)\n",
    "model.wavg_prev_kappa = wavg_prev_kappa"
   ]
  },
  {
   "cell_type": "markdown",
   "metadata": {},
   "source": [
    "## Build LSTMs 2 and 3"
   ]
  },
  {
   "cell_type": "code",
   "execution_count": 7,
   "metadata": {},
   "outputs": [],
   "source": [
    "\n",
    "# ----- finish building second recurrent cell\n",
    "outs_cell1, model.fstate_cell1 = tf.contrib.legacy_seq2seq.rnn_decoder(outs_cell0, model.istate_cell1, model.cell1, \\\n",
    "                                                    loop_function=None, scope='cell1') #use scope from training\n",
    "\n",
    "# ----- finish building third recurrent cell\n",
    "outs_cell2, model.fstate_cell2 = tf.contrib.legacy_seq2seq.rnn_decoder(outs_cell1, model.istate_cell2, model.cell2, \\\n",
    "                                                    loop_function=None, scope='cell2')\n",
    "\n",
    "out_cell2 = tf.reshape(tf.concat(outs_cell2, 1), [-1, args.rnn_size]) #concat outputs for efficiency"
   ]
  },
  {
   "cell_type": "markdown",
   "metadata": {},
   "source": [
    "## Build Mixture Density Network (MDN)"
   ]
  },
  {
   "cell_type": "markdown",
   "metadata": {},
   "source": [
    "The core idea is to have a network that predicts an entire distribution. Here we are predicting a mixture of Gaussians distributions by estimating their the means and covariances with the output from a dense neural network. In effect, the network will be able to estimate its own uncertainty. When the target is noisy it will predict diffuse distributions and where the target is really likely it will predict a peaky distribution.\n",
    "\n",
    "If the following plot represents the target data space, then the MDN will fit Gaussian distributions as shown. Since we are drawing from a mixture of Gaussians, we use make the network predict $\\pi$, which defines how likely a given point was drawn from each Gaussian in the mixture.\n",
    "\n",
    "<img src=\"static/MDN.png\" alt=\"Mixture of Gaussians\" style=\"width: 50%;\"/>\n",
    "\n",
    "The $\\pi$ values in the image are likely values for the red dot. The probability that it came from the first distribution is really unlikely, but the probablities are pretty evenly balanced between the second two"
   ]
  },
  {
   "cell_type": "markdown",
   "metadata": {},
   "source": [
    "### First, build the dense NN"
   ]
  },
  {
   "cell_type": "code",
   "execution_count": 8,
   "metadata": {},
   "outputs": [],
   "source": [
    "\n",
    "#put a dense cap on top of the rnn cells (to interface with the mixture density network)\n",
    "n_out = 1 + args.nmixtures * 6 # params = end_of_stroke + 6 parameters per Gaussian\n",
    "with tf.variable_scope('mdn_dense'):\n",
    "    output_w = tf.get_variable(\"output_w\", [args.rnn_size, n_out], initializer=model.graves_initializer)\n",
    "    output_b = tf.get_variable(\"output_b\", [n_out], initializer=model.graves_initializer)\n",
    "\n",
    "output = tf.nn.xw_plus_b(out_cell2, output_w, output_b) #data flows through dense nn"
   ]
  },
  {
   "cell_type": "markdown",
   "metadata": {},
   "source": [
    "### Next, define a 2D Gaussian using tensor operations"
   ]
  },
  {
   "cell_type": "markdown",
   "metadata": {},
   "source": [
    "A 2D gaussian looks like\n",
    "$\\mathcal{N}(x|\\mu,\\sigma,\\rho)=\\frac{1}{2\\pi\\sigma_1\\sigma_2\\sqrt(1-\\rho^2)}exp\\left[\\frac{-Z}{2(1-\\rho^2)}\\right]$ where $Z=\\frac{(x_1-\\mu_1)^2}{\\sigma_1^2}+\\frac{(x_2-\\mu_2)^2}{\\sigma_2^2}-\\frac{2\\rho(x_1-\\mu_1)(x_2-\\mu_2)}{\\sigma_1\\sigma_2}$"
   ]
  },
  {
   "cell_type": "code",
   "execution_count": 9,
   "metadata": {},
   "outputs": [],
   "source": [
    "# ----- build mixture density cap on top of second recurrent cell\n",
    "def gaussian2d(x1, x2, mu1, mu2, s1, s2, rho):\n",
    "    # define gaussian mdn (eq 24, 25 from http://arxiv.org/abs/1308.0850)\n",
    "    x_mu1 = tf.subtract(x1, mu1)\n",
    "    x_mu2 = tf.subtract(x2, mu2)\n",
    "    Z = tf.square(tf.div(x_mu1, s1)) + \\\n",
    "        tf.square(tf.div(x_mu2, s2)) - \\\n",
    "        2*tf.div(tf.multiply(rho, tf.multiply(x_mu1, x_mu2)), tf.multiply(s1, s2))\n",
    "    rho_square_term = 1-tf.square(rho)\n",
    "    power_e = tf.exp(tf.div(-Z,2*rho_square_term))\n",
    "    regularize_term = 2*np.pi*tf.multiply(tf.multiply(s1, s2), tf.sqrt(rho_square_term))\n",
    "    gaussian = tf.div(power_e, regularize_term)\n",
    "    return gaussian"
   ]
  },
  {
   "cell_type": "markdown",
   "metadata": {},
   "source": [
    "### Finally, transform the NN outputs into parameters for a mixture of Gaussians"
   ]
  },
  {
   "cell_type": "markdown",
   "metadata": {},
   "source": [
    "The gaussian mixture density network parameters are \n",
    "\n",
    "$$e_t=\\frac{1}{1+\\exp(\\hat e_t)} \\quad \\quad \\pi_t^j=\\frac{\\exp(\\hat \\pi_t^j)}{\\sum_{j'=1}^M\\exp(\\hat \\pi_t^{j'})} \\quad \\quad \\mu_t^j=\\hat \\mu_t^j \\quad \\quad \\sigma_t^j=\\exp(\\hat \\sigma_t^j)  \\quad \\quad  \\rho_t^j=\\tanh(\\hat \\rho_t^j)$$"
   ]
  },
  {
   "cell_type": "code",
   "execution_count": 10,
   "metadata": {},
   "outputs": [],
   "source": [
    "# now transform dense NN outputs into params for MDN\n",
    "def get_mdn_coef(Z):\n",
    "    # returns the tf slices containing mdn dist params (eq 18...23 of http://arxiv.org/abs/1308.0850)\n",
    "    eos_hat = Z[:, 0:1] #end of sentence tokens\n",
    "    pi_hat, mu1_hat, mu2_hat, sigma1_hat, sigma2_hat, rho_hat = tf.split(Z[:, 1:], 6, 1)\n",
    "    model.pi_hat, model.sigma1_hat, model.sigma2_hat = \\\n",
    "                                        pi_hat, sigma1_hat, sigma2_hat # these are useful for biasing\n",
    "    \n",
    "    eos = tf.sigmoid(-1*eos_hat) # technically we gained a negative sign\n",
    "    pi = tf.nn.softmax(pi_hat) # softmax z_pi:\n",
    "    mu1 = mu1_hat; mu2 = mu2_hat # leave mu1, mu2 as they are\n",
    "    sigma1 = tf.exp(sigma1_hat); sigma2 = tf.exp(sigma2_hat) # exp for sigmas\n",
    "    rho = tf.tanh(rho_hat) # tanh for rho (squish between -1 and 1)\n",
    "\n",
    "    return [eos, pi, mu1, mu2, sigma1, sigma2, rho]"
   ]
  },
  {
   "cell_type": "markdown",
   "metadata": {},
   "source": [
    "Now we just map the outputs from the dense NN to the Gaussian mixture parameters."
   ]
  },
  {
   "cell_type": "code",
   "execution_count": 11,
   "metadata": {},
   "outputs": [],
   "source": [
    "\n",
    "# reshape target data (as we did the input data)\n",
    "flat_target_data = tf.reshape(model.target_data,[-1, 3])\n",
    "[x1_data, x2_data, eos_data] = tf.split(flat_target_data, 3, 1) #we might as well split these now\n",
    "[model.eos, model.pi, model.mu1, model.mu2, model.sigma1, model.sigma2, model.rho] = get_mdn_coef(output)"
   ]
  },
  {
   "cell_type": "markdown",
   "metadata": {},
   "source": [
    "## Side note: loss"
   ]
  },
  {
   "cell_type": "markdown",
   "metadata": {},
   "source": [
    "We don't actually need to calculate loss in order to generate handwriting, but it is necessary for training the model. I'll provide the equations from the original paper but omit the code. If you want to see how to implement them in TensorFlow, check out the model.py file in this Github project.\n",
    "\n",
    "We define in terms of the MDN parameters and the target data as follows:\n",
    "$$ \\mathcal{L}(x)=\\sum_{t=1}^{T} -log\\left(\\sum_{j} \\pi_t^j\\mathcal{N}(x_{t+1}|\\mu_t^j,\\sigma_t^j,\\rho_t^j)\n",
    "\\right)\n",
    "-\\left\\{\n",
    "        \\begin{array}{ll}\n",
    "            \\log e_t & (x_{t+1})_3=1\\\\\n",
    "            \\log(1-e_t) & \\quad \\mathrm{otherwise}\n",
    "        \\end{array}\n",
    "    \\right.\n",
    "$$"
   ]
  },
  {
   "cell_type": "markdown",
   "metadata": {},
   "source": [
    "## Load saved model"
   ]
  },
  {
   "cell_type": "markdown",
   "metadata": {},
   "source": [
    "Now that the entire model is built, we can start a session and try to load weights from a saved model. Look on this project's Github page for instructions on how to download a pretrained model."
   ]
  },
  {
   "cell_type": "code",
   "execution_count": 12,
   "metadata": {},
   "outputs": [
    {
     "name": "stdout",
     "output_type": "stream",
     "text": [
      "./saved/model.ckpt-124500\n",
      "INFO:tensorflow:Restoring parameters from ./saved/model.ckpt-124500\n",
      "loaded model: ./saved/model.ckpt-124500\n"
     ]
    }
   ],
   "source": [
    "model.sess = tf.InteractiveSession()\n",
    "model.saver = tf.train.Saver(tf.global_variables())\n",
    "model.sess.run(tf.global_variables_initializer())\n",
    "\n",
    "load_was_success = True # yes, I'm being optimistic\n",
    "global_step = 0\n",
    "try:\n",
    "    save_dir = '/'.join(args.save_path.split('/')[:-1])\n",
    "    ckpt = tf.train.get_checkpoint_state(save_dir)\n",
    "    load_path = ckpt.model_checkpoint_path\n",
    "    print(load_path)\n",
    "    model.saver.restore(model.sess, load_path)\n",
    "except:\n",
    "    print(\"no saved model to load. starting new session\")\n",
    "    load_was_success = False\n",
    "else:\n",
    "    print(\"loaded model: {}\".format(load_path))\n",
    "    model.saver = tf.train.Saver(tf.global_variables())\n",
    "    global_step = int(load_path.split('-')[-1])"
   ]
  },
  {
   "cell_type": "markdown",
   "metadata": {},
   "source": [
    "## Generate handwriting!"
   ]
  },
  {
   "cell_type": "code",
   "execution_count": 13,
   "metadata": {},
   "outputs": [],
   "source": [
    "# utility function for converting input ascii characters into vectors the network can understand.\n",
    "# index position 0 means \"unknown\"\n",
    "def to_one_hot(s, ascii_steps, alphabet):\n",
    "    steplimit=3e3; s = s[:3e3] if len(s) > 3e3 else s # clip super-long strings\n",
    "    seq = [alphabet.find(char) + 1 for char in s]\n",
    "    if len(seq) >= ascii_steps:\n",
    "        seq = seq[:ascii_steps]\n",
    "    else:\n",
    "        seq = seq + [0]*(ascii_steps - len(seq))\n",
    "    one_hot = np.zeros((ascii_steps,len(alphabet)+1))\n",
    "    one_hot[np.arange(ascii_steps),seq] = 1\n",
    "    return one_hot"
   ]
  },
  {
   "cell_type": "markdown",
   "metadata": {},
   "source": [
    "### Prime the model"
   ]
  },
  {
   "cell_type": "markdown",
   "metadata": {},
   "source": [
    "This is a function that is meant to 'prime' the model on a particular style of handwriting. Graves does this in his paper but I was unable to replicate his success. Currently, when I prime the network I get signs of that style, but the output becomes far more messy and unpredictable"
   ]
  },
  {
   "cell_type": "code",
   "execution_count": 14,
   "metadata": {},
   "outputs": [],
   "source": [
    "def get_style_states(model, args):\n",
    "#     with open(os.path.join(args.data_dir, 'styles.p'),'r') as f:\n",
    "#         style_strokes, style_strings = pickle.load(f)\n",
    "    with open(os.path.join(args.data_dir, 'styles.p'),'rb') as f:\n",
    "        style_strokes, style_strings = pickle.load(f, encoding='latin1')\n",
    "\n",
    "    style_strokes, style_string = style_strokes[args.style], style_strings[args.style]\n",
    "    style_onehot = [to_one_hot(style_string, model.ascii_steps, args.alphabet)]\n",
    "\n",
    "    c0, c1, c2 = model.istate_cell0.c.eval(), model.istate_cell1.c.eval(), model.istate_cell2.c.eval()\n",
    "    h0, h1, h2 = model.istate_cell0.h.eval(), model.istate_cell1.h.eval(), model.istate_cell2.h.eval()\n",
    "    if args.style is -1: return [c0, c1, c2, h0, h1, h2] #model 'chooses' random style\n",
    "        \n",
    "    style_stroke = np.zeros((1, 1, 3), dtype=np.float32)\n",
    "    style_kappa = np.zeros((1, args.kmixtures, 1))\n",
    "    prime_len = 500 # must be <= 700\n",
    "    \n",
    "    for i in range(prime_len):\n",
    "        style_stroke[0][0] = style_strokes[i,:]\n",
    "        feed = {model.input_data: style_stroke, model.char_seq: style_onehot, model.init_kappa: style_kappa, \\\n",
    "                model.istate_cell0.c: c0, model.istate_cell1.c: c1, model.istate_cell2.c: c2, \\\n",
    "                model.istate_cell0.h: h0, model.istate_cell1.h: h1, model.istate_cell2.h: h2}\n",
    "        fetch = [model.wavg_prev_kappa, \\\n",
    "                 model.fstate_cell0.c, model.fstate_cell1.c, model.fstate_cell2.c,\n",
    "                 model.fstate_cell0.h, model.fstate_cell1.h, model.fstate_cell2.h]\n",
    "        [style_kappa, c0, c1, c2, h0, h1, h2] = model.sess.run(fetch, feed)\n",
    "    return [c0, c1, c2, np.zeros_like(h0), np.zeros_like(h1), np.zeros_like(h2)] #only the c vectors should be primed"
   ]
  },
  {
   "cell_type": "markdown",
   "metadata": {},
   "source": [
    "### Prepare feed parameters for the model"
   ]
  },
  {
   "cell_type": "markdown",
   "metadata": {},
   "source": [
    "When you ask TensorFlow to find the values in one or more of its tensors, you pass these tensors in as a list. This is your `fetch` list. TensorFlow looks through the computational graph you've built and figures out all of the inputs it needs in order to calculate values for the tensors in the `fetch` list. It takes these inputs as a `feed` dictionary, where the keys are TensorFlow entry-point variables (called Placeholders) and the values are numpy inputs.\n",
    "\n",
    "In the next cell, we'll collect all the numpy values we'll need to make the `feed` dictionary when we evaluate the model"
   ]
  },
  {
   "cell_type": "code",
   "execution_count": 15,
   "metadata": {},
   "outputs": [],
   "source": [
    "# specify alternate string to render\n",
    "# args.text = 'hello world, my name is robert'"
   ]
  },
  {
   "cell_type": "code",
   "execution_count": 16,
   "metadata": {},
   "outputs": [],
   "source": [
    "# initialize some sampling parameters\n",
    "one_hot = [to_one_hot(args.text, model.ascii_steps, args.alphabet)]  # convert input string to one-hot vector\n",
    "[c0, c1, c2, h0, h1, h2] = get_style_states(model, args)              # get numpy zeros states for all three LSTMs\n",
    "kappa = np.zeros((1, args.kmixtures, 1))                              # attention's read head starts at index 0\n",
    "prev_x = np.asarray([[[0, 0, 1]]], dtype=np.float32)                  # start with a pen stroke at (0,0)\n",
    "\n",
    "strokes, pis, windows, phis, kappas = [], [], [], [], []              # the data we're going to generate will go here"
   ]
  },
  {
   "cell_type": "code",
   "execution_count": 17,
   "metadata": {},
   "outputs": [],
   "source": [
    "# print(one_hot)"
   ]
  },
  {
   "cell_type": "markdown",
   "metadata": {},
   "source": [
    "### Sample from the model"
   ]
  },
  {
   "cell_type": "markdown",
   "metadata": {},
   "source": [
    "Each loop is a full pass through the model. The input for the model at time t $i_t$ is the output from the model at time t-1 $o_{t-1}$"
   ]
  },
  {
   "cell_type": "code",
   "execution_count": 18,
   "metadata": {},
   "outputs": [],
   "source": [
    "def sample_gaussian2d(mu1, mu2, s1, s2, rho):\n",
    "    mean = [mu1, mu2]\n",
    "    cov = [[s1*s1, rho*s1*s2], [rho*s1*s2, s2*s2]]\n",
    "    x = np.random.multivariate_normal(mean, cov, 1)\n",
    "    return x[0][0], x[0][1]"
   ]
  },
  {
   "cell_type": "code",
   "execution_count": 19,
   "metadata": {},
   "outputs": [
    {
     "name": "stderr",
     "output_type": "stream",
     "text": [
      "/opt/conda/lib/python3.6/site-packages/ipykernel_launcher.py:4: RuntimeWarning: covariance is not symmetric positive-semidefinite.\n",
      "  after removing the cwd from sys.path.\n"
     ]
    }
   ],
   "source": [
    "finished = False ; i = 0\n",
    "while not finished and i < 800:\n",
    "    feed = {model.input_data: prev_x, model.char_seq: one_hot, model.init_kappa: kappa, \\\n",
    "            model.istate_cell0.c: c0, model.istate_cell1.c: c1, model.istate_cell2.c: c2, \\\n",
    "            model.istate_cell0.h: h0, model.istate_cell1.h: h1, model.istate_cell2.h: h2}\n",
    "    fetch = [model.pi_hat, model.mu1, model.mu2, model.sigma1_hat, model.sigma2_hat, model.rho, model.eos, \\\n",
    "             model.window, model.phi, model.new_kappa, model.wavg_prev_kappa, model.alpha, \\\n",
    "             model.fstate_cell0.c, model.fstate_cell1.c, model.fstate_cell2.c,\\\n",
    "             model.fstate_cell0.h, model.fstate_cell1.h, model.fstate_cell2.h]\n",
    "    [pi_hat, mu1, mu2, sigma1_hat, sigma2_hat, rho, eos, window, phi, kappa, wavg_kappa, alpha, \\\n",
    "             c0, c1, c2, h0, h1, h2] = model.sess.run(fetch, feed)\n",
    "    \n",
    "    #bias stuff:\n",
    "    sigma1 = np.exp(sigma1_hat - args.bias)\n",
    "    sigma2 = np.exp(sigma2_hat - args.bias)\n",
    "    pi_hat *= 1 + args.bias # apply bias\n",
    "    pi = np.zeros_like(pi_hat) # need to preallocate\n",
    "    pi[0] = np.exp(pi_hat[0]) / np.sum(np.exp(pi_hat[0]), axis=0) # softmax\n",
    "    \n",
    "    # choose a component from the MDN\n",
    "    idx = np.random.choice(pi.shape[1], p=pi[0])\n",
    "    eos = 1 if args.eos_prob < eos[0][0] else 0 # use 0.5 as arbitrary boundary\n",
    "    x1, x2 = sample_gaussian2d(mu1[0][idx], mu2[0][idx], sigma1[0][idx], sigma2[0][idx], rho[0][idx])\n",
    "        \n",
    "    # store the info at this time step\n",
    "    windows.append(window)\n",
    "    phis.append(phi[0])\n",
    "    kappas.append(kappa[0])\n",
    "    pis.append(pi[0])\n",
    "    strokes.append([mu1[0][idx], mu2[0][idx], sigma1[0][idx], sigma2[0][idx], rho[0][idx], eos])\n",
    "    \n",
    "    # test if finished (has the read head seen the whole ascii sequence?)\n",
    "    main_kappa_idx = np.where(alpha[0]==np.max(alpha[0])); # choose the read head with the highes alpha value\n",
    "    finished = True if kappa[0][main_kappa_idx] > len(args.text) + 1 else False\n",
    "    \n",
    "    # new input is previous output\n",
    "    prev_x[0][0] = np.array([x1, x2, eos], dtype=np.float32)\n",
    "    kappa = wavg_kappa\n",
    "    i+=1\n",
    "windows = np.vstack(windows)\n",
    "phis = np.vstack(phis)\n",
    "kappas = np.vstack(kappas)\n",
    "pis = np.vstack(pis)\n",
    "strokes = np.vstack(strokes)\n",
    "\n",
    "# the network predicts the displacements between pen points, so do a running sum over the time dimension\n",
    "strokes[:,:2] = np.cumsum(strokes[:,:2], axis=0)"
   ]
  },
  {
   "cell_type": "markdown",
   "metadata": {},
   "source": [
    "# Plots"
   ]
  },
  {
   "cell_type": "markdown",
   "metadata": {},
   "source": [
    "### Phis and Soft attention window\n",
    "\n",
    "**Phis:** A time series plot of the window's position. The vertical axis is time (descending) and the horizontal axis is the sequence of ascii characters that the model is drawing.\n",
    "\n",
    "**Soft attention window:** A time series of one-hot encodings produced by the attention mechanism. Again, the vertical axis is time. The horizontal axis what the model sees when it looks through the soft window.\n",
    "\n",
    "Note that the bright stripes in the first plot are the model’s way of encoding the end of a pen stroke. We never hard-coded this behavior!"
   ]
  },
  {
   "cell_type": "code",
   "execution_count": 20,
   "metadata": {},
   "outputs": [
    {
     "data": {
      "image/png": "[encoded data removed]",
      "text/plain": [
       "<Figure size 1152x288 with 2 Axes>"
      ]
     },
     "metadata": {
      "needs_background": "light"
     },
     "output_type": "display_data"
    }
   ],
   "source": [
    "# plots parameters from the attention mechanism\n",
    "def window_plots(phis, windows):\n",
    "    plt.figure(figsize=(16,4))\n",
    "    plt.subplot(121)\n",
    "    plt.title('Phis', fontsize=20)\n",
    "    plt.xlabel(\"ascii #\", fontsize=15)\n",
    "    plt.ylabel(\"time steps\", fontsize=15)\n",
    "    plt.imshow(phis, interpolation='nearest', aspect='auto', cmap=cm.jet)\n",
    "    ax = plt.subplot(122)\n",
    "    plt.title('Soft attention window', fontsize=20)\n",
    "    plt.xlabel(\"one-hot vector\", fontsize=15)\n",
    "    ax.set_xticklabels(args.alphabet)\n",
    "    ax.set_xticks(range(len(args.alphabet)))\n",
    "    plt.ylabel(\"time steps\", fontsize=15)\n",
    "    plt.imshow(windows, interpolation='nearest', aspect='auto', cmap=cm.jet)\n",
    "    \n",
    "window_plots(phis, windows)"
   ]
  },
  {
   "cell_type": "markdown",
   "metadata": {},
   "source": [
    "### Mixture Density Network $\\pi$ probabilities:\n",
    "Each element of the `pis` vector corresponds to the probability that the model will sample a point from that Gaussian component. Notice that the model has learned to draw from different distributions depending on what letters/strokes it is drawing"
   ]
  },
  {
   "cell_type": "code",
   "execution_count": 21,
   "metadata": {},
   "outputs": [
    {
     "data": {
      "text/plain": [
       "<matplotlib.image.AxesImage at 0x7f4e1c137320>"
      ]
     },
     "execution_count": 21,
     "metadata": {},
     "output_type": "execute_result"
    },
    {
     "data": {
      "image/png": "[encoded data removed]",
      "text/plain": [
       "<Figure size 576x288 with 1 Axes>"
      ]
     },
     "metadata": {
      "needs_background": "light"
     },
     "output_type": "display_data"
    }
   ],
   "source": [
    "plt.figure(figsize=(8,4))\n",
    "plt.title(\"How MDN $\\pi$ values change over time\", fontsize=15)\n",
    "plt.xlabel(\"$\\pi$ values\", fontsize=15)\n",
    "plt.ylabel(\"time step\", fontsize=15)\n",
    "plt.imshow(pis, interpolation='nearest', aspect='auto', cmap=cm.jet)"
   ]
  },
  {
   "cell_type": "markdown",
   "metadata": {},
   "source": [
    "### Stroke probability\n",
    "The model as learned to predict diffuse distributions at the beginning of pen strokes and peaky distributions in the middle (where uncertainty in the next point's location is much lower)"
   ]
  },
  {
   "cell_type": "code",
   "execution_count": 22,
   "metadata": {},
   "outputs": [
    {
     "name": "stderr",
     "output_type": "stream",
     "text": [
      "/opt/conda/lib/python3.6/site-packages/ipykernel_launcher.py:15: MatplotlibDeprecationWarning: The bivariate_normal function was deprecated in version 2.2.\n",
      "  from ipykernel import kernelapp as app\n"
     ]
    },
    {
     "data": {
      "image/png": "[encoded data removed]",
      "text/plain": [
       "<Figure size 3744x288 with 1 Axes>"
      ]
     },
     "metadata": {
      "needs_background": "light"
     },
     "output_type": "display_data"
    }
   ],
   "source": [
    "def gauss_plot(strokes, title, figsize = (20,2)):\n",
    "    plt.figure(figsize=figsize)\n",
    "    import matplotlib.mlab as mlab\n",
    "    buff = 1 ; epsilon = 1e-4\n",
    "    minx, maxx = np.min(strokes[:,0])-buff, np.max(strokes[:,0])+buff\n",
    "    miny, maxy = np.min(strokes[:,1])-buff, np.max(strokes[:,1])+buff\n",
    "    delta = abs(maxx-minx)/400. ;\n",
    "\n",
    "    x = np.arange(minx, maxx, delta)\n",
    "    y = np.arange(miny, maxy, delta)\n",
    "    X, Y = np.meshgrid(x, y)\n",
    "    Z = np.zeros_like(X)\n",
    "    for i in range(strokes.shape[0]):\n",
    "        gauss = mlab.bivariate_normal(X, Y, mux=strokes[i,0], muy=strokes[i,1], \\\n",
    "            sigmax=strokes[i,2], sigmay=strokes[i,3], sigmaxy=0) # sigmaxy=strokes[i,4] gives error\n",
    "        Z += gauss * np.power(strokes[i,3] + strokes[i,2], .4) / (np.max(gauss) + epsilon)\n",
    "\n",
    "    plt.title(title, fontsize=20)\n",
    "    plt.imshow(Z)\n",
    "    \n",
    "gauss_plot(strokes, \"Stroke probability\", figsize = (2*model.ascii_steps,4))"
   ]
  },
  {
   "cell_type": "markdown",
   "metadata": {},
   "source": [
    "### Line plot:\n",
    "Last but not least, let's generate some handwriting. Since the LSTMs' states start out as zeros, the model generally chooses a random style and then maintains that style for the rest of the sample. If you repeat the sampling a couple times, you'll see everything from messy, scrawling cursive to neat print. Each 'style' comes from one of the writers of the dataset."
   ]
  },
  {
   "cell_type": "code",
   "execution_count": 23,
   "metadata": {},
   "outputs": [
    {
     "data": {
      "image/png": "[encoded data removed]",
      "text/plain": [
       "<Figure size 1872x144 with 1 Axes>"
      ]
     },
     "metadata": {
      "needs_background": "light"
     },
     "output_type": "display_data"
    }
   ],
   "source": [
    "# plots the stroke data (handwriting!)\n",
    "def line_plot(strokes, title, figsize = (20,2)):\n",
    "    plt.figure(figsize=figsize)\n",
    "    eos_preds = np.where(strokes[:,-1] == 1)\n",
    "    eos_preds = [0] + list(eos_preds[0]) + [-1] #add start and end indices\n",
    "    for i in range(len(eos_preds)-1):\n",
    "        start = eos_preds[i]+1\n",
    "        stop = eos_preds[i+1]\n",
    "        plt.plot(strokes[start:stop,0], strokes[start:stop,1],'b-', linewidth=3.0) #draw a stroke\n",
    "    plt.title(title,  fontsize=20)\n",
    "    plt.gca().invert_yaxis()\n",
    "    plt.show()\n",
    "    \n",
    "line_plot(strokes, 'Line plot: \"{}\"'.format(args.text), figsize=(model.ascii_steps,2))"
   ]
  },
  {
   "cell_type": "code",
   "execution_count": null,
   "metadata": {},
   "outputs": [],
   "source": []
  }
 ],
 "metadata": {
  "kernelspec": {
   "display_name": "Python 3",
   "language": "python",
   "name": "python3"
  },
  "language_info": {
   "codemirror_mode": {
    "name": "ipython",
    "version": 3
   },
   "file_extension": ".py",
   "mimetype": "text/x-python",
   "name": "python",
   "nbconvert_exporter": "python",
   "pygments_lexer": "ipython3",
   "version": "3.6.8"
  }
 },
 "nbformat": 4,
 "nbformat_minor": 1
}
